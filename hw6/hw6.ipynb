{
 "cells": [
  {
   "cell_type": "markdown",
   "metadata": {},
   "source": [
    "# Q1. Baseline Probability Calculation"
   ]
  },
  {
   "cell_type": "code",
   "execution_count": 2,
   "metadata": {},
   "outputs": [
    {
     "name": "stdout",
     "output_type": "stream",
     "text": [
      "t = 50: Intact=0.6050, Damage=0.3056, Failure=0.0894\n",
      "t = 100: Intact=0.3660, Damage=0.3697, Failure=0.2642\n"
     ]
    }
   ],
   "source": [
    "import numpy as np\n",
    "\n",
    "# Define the transition matrix\n",
    "P = np.array([\n",
    "    [0.99, 0.01, 0.0],\n",
    "    [0.0, 0.99, 0.01],\n",
    "    [0.0, 0.0, 1.0]\n",
    "])\n",
    "\n",
    "# Initial state vector: starting from Intact\n",
    "pi_0 = np.array([1.0, 0.0, 0.0])\n",
    "\n",
    "# Function to compute state probabilities after t steps\n",
    "def compute_state_prob(pi_0, P, t):\n",
    "    P_t = np.linalg.matrix_power(P, t)\n",
    "    return pi_0 @ P_t\n",
    "\n",
    "# Compute state probabilities after 50 and 100 weeks\n",
    "pi_50 = compute_state_prob(pi_0, P, 50)\n",
    "pi_100 = compute_state_prob(pi_0, P, 100)\n",
    "\n",
    "# Print the results\n",
    "print(f\"t = 50: Intact={pi_50[0]:.4f}, Damage={pi_50[1]:.4f}, Failure={pi_50[2]:.4f}\")\n",
    "print(f\"t = 100: Intact={pi_100[0]:.4f}, Damage={pi_100[1]:.4f}, Failure={pi_100[2]:.4f}\")"
   ]
  },
  {
   "cell_type": "markdown",
   "metadata": {},
   "source": [
    "# Q2. Posterior Probability with Observations"
   ]
  },
  {
   "cell_type": "code",
   "execution_count": 3,
   "metadata": {},
   "outputs": [
    {
     "ename": "ModuleNotFoundError",
     "evalue": "No module named 'pandas'",
     "output_type": "error",
     "traceback": [
      "\u001b[0;31m---------------------------------------------------------------------------\u001b[0m",
      "\u001b[0;31mModuleNotFoundError\u001b[0m                       Traceback (most recent call last)",
      "Cell \u001b[0;32mIn[3], line 1\u001b[0m\n\u001b[0;32m----> 1\u001b[0m \u001b[38;5;28;01mimport\u001b[39;00m\u001b[38;5;250m \u001b[39m\u001b[38;5;21;01mpandas\u001b[39;00m\u001b[38;5;250m \u001b[39m\u001b[38;5;28;01mas\u001b[39;00m\u001b[38;5;250m \u001b[39m\u001b[38;5;21;01mpd\u001b[39;00m\n\u001b[1;32m      2\u001b[0m \u001b[38;5;28;01mimport\u001b[39;00m\u001b[38;5;250m \u001b[39m\u001b[38;5;21;01mnumpy\u001b[39;00m\u001b[38;5;250m \u001b[39m\u001b[38;5;28;01mas\u001b[39;00m\u001b[38;5;250m \u001b[39m\u001b[38;5;21;01mnp\u001b[39;00m\n\u001b[1;32m      4\u001b[0m \u001b[38;5;66;03m# Load observations from Measures.csv\u001b[39;00m\n",
      "\u001b[0;31mModuleNotFoundError\u001b[0m: No module named 'pandas'"
     ]
    }
   ],
   "source": [
    "import pandas as pd\n",
    "import numpy as np\n",
    "\n",
    "# Load observations from Measures.csv\n",
    "df = pd.read_csv(\"Measures.csv\", header=None)\n",
    "measurements = df[0].values  # y_1 to y_50\n",
    "\n",
    "# Define states and HMM parameters\n",
    "states = [1, 2, 3]\n",
    "lambda_values = {1: 0.5, 2: 0.75, 3: 1.0}  # Log-mean per state\n",
    "zeta = 0.8  # Shared standard deviation (log-scale)\n",
    "\n",
    "# Transition matrix\n",
    "P = np.array([\n",
    "    [0.99, 0.01, 0.0],\n",
    "    [0.0, 0.99, 0.01],\n",
    "    [0.0, 0.0, 1.0]\n",
    "])\n",
    "\n",
    "# Initial belief: fully Intact\n",
    "pi_0 = np.array([1.0, 0.0, 0.0])\n",
    "\n",
    "# Lognormal emission probability\n",
    "def emission_prob(y, s):\n",
    "    mu = lambda_values[s]\n",
    "    sigma = zeta\n",
    "    return (1 / (y * sigma * np.sqrt(2 * np.pi))) * np.exp(-((np.log(y) - mu) ** 2) / (2 * sigma ** 2))\n",
    "\n",
    "# Forward algorithm for filtering\n",
    "T = len(measurements)\n",
    "n_states = len(states)\n",
    "alpha = np.zeros((T, n_states))\n",
    "\n",
    "# Initialization\n",
    "for j in range(n_states):\n",
    "    alpha[0, j] = pi_0[j] * emission_prob(measurements[0], states[j])\n",
    "alpha[0] /= np.sum(alpha[0])  # Normalize\n",
    "\n",
    "# Forward recursion\n",
    "for t in range(1, T):\n",
    "    for j in range(n_states):\n",
    "        alpha[t, j] = emission_prob(measurements[t], states[j]) * np.sum(alpha[t-1] * P[:, j])\n",
    "    alpha[t] /= np.sum(alpha[t])  # Normalize\n",
    "\n",
    "# Filtered belief at t=50\n",
    "pi_50 = alpha[-1]\n",
    "\n",
    "# Predict forward 50 more steps (t=100)\n",
    "pi_100 = pi_50 @ np.linalg.matrix_power(P, 50)\n",
    "\n",
    "# Output\n",
    "print(f\"Posterior at t=50: Intact={pi_50[0]:.4f}, Damage={pi_50[1]:.4f}, Failure={pi_50[2]:.4f}\")\n",
    "print(f\"Predicted at t=100: Intact={pi_100[0]:.4f}, Damage={pi_100[1]:.4f}, Failure={pi_100[2]:.4f}\")"
   ]
  }
 ],
 "metadata": {
  "kernelspec": {
   "display_name": "class_12735",
   "language": "python",
   "name": "python3"
  },
  "language_info": {
   "codemirror_mode": {
    "name": "ipython",
    "version": 3
   },
   "file_extension": ".py",
   "mimetype": "text/x-python",
   "name": "python",
   "nbconvert_exporter": "python",
   "pygments_lexer": "ipython3",
   "version": "3.10.16"
  }
 },
 "nbformat": 4,
 "nbformat_minor": 2
}
