{
 "cells": [
  {
   "cell_type": "markdown",
   "id": "d503a4fb",
   "metadata": {},
   "source": [
    "## Problem 1: Baseline Probability Calculation"
   ]
  },
  {
   "cell_type": "code",
   "execution_count": 2,
   "id": "53a1b85d",
   "metadata": {},
   "outputs": [],
   "source": [
    "import numpy as np\n",
    "import pandas as pd\n",
    "\n",
    "# Shared transition matrix and state setup\n",
    "P = np.array([\n",
    "    [0.99, 0.01, 0.0],\n",
    "    [0.0, 0.99, 0.01],\n",
    "    [0.0, 0.0, 1.0]\n",
    "])\n",
    "pi_0 = np.array([1.0, 0.0, 0.0])\n",
    "states = [1, 2, 3]\n",
    "\n",
    "def compute_state_prob(pi_0, P, t):\n",
    "    return pi_0 @ np.linalg.matrix_power(P, t)\n",
    "\n",
    "def lognormal_emission(y, s, lambda_dict, zeta):\n",
    "    mu = lambda_dict[s]\n",
    "    sigma = zeta\n",
    "    return (1 / (y * sigma * np.sqrt(2 * np.pi))) * np.exp(-((np.log(y) - mu) ** 2) / (2 * sigma ** 2))\n",
    "\n",
    "def hmm_forward(measurements, lambda_dict, zeta):\n",
    "    T = len(measurements)\n",
    "    n_states = len(states)\n",
    "    alpha = np.zeros((T, n_states))\n",
    "    for j in range(n_states):\n",
    "        alpha[0, j] = pi_0[j] * lognormal_emission(measurements[0], states[j], lambda_dict, zeta)\n",
    "    alpha[0] /= np.sum(alpha[0])\n",
    "    for t in range(1, T):\n",
    "        for j in range(n_states):\n",
    "            alpha[t, j] = lognormal_emission(measurements[t], states[j], lambda_dict, zeta) * np.sum(alpha[t-1] * P[:, j])\n",
    "        alpha[t] /= np.sum(alpha[t])\n",
    "    return alpha\n"
   ]
  },
  {
   "cell_type": "code",
   "execution_count": 3,
   "id": "f3d6d0b6",
   "metadata": {},
   "outputs": [
    {
     "name": "stdout",
     "output_type": "stream",
     "text": [
      "Problem 1:\n",
      "t = 50: Intact=0.6050, Damage=0.3056, Failure=0.0894\n",
      "t = 100: Intact=0.3660, Damage=0.3697, Failure=0.2642\n"
     ]
    }
   ],
   "source": [
    "pi_50 = compute_state_prob(pi_0, P, 50)\n",
    "pi_100 = compute_state_prob(pi_0, P, 100)\n",
    "\n",
    "print(\"Problem 1:\")\n",
    "print(f\"t = 50: Intact={pi_50[0]:.4f}, Damage={pi_50[1]:.4f}, Failure={pi_50[2]:.4f}\")\n",
    "print(f\"t = 100: Intact={pi_100[0]:.4f}, Damage={pi_100[1]:.4f}, Failure={pi_100[2]:.4f}\")\n"
   ]
  },
  {
   "cell_type": "markdown",
   "id": "019ff3a1",
   "metadata": {},
   "source": [
    "## Problem 2: Posterior Probability with Observations"
   ]
  },
  {
   "cell_type": "code",
   "execution_count": 4,
   "id": "3fa60931",
   "metadata": {},
   "outputs": [
    {
     "name": "stdout",
     "output_type": "stream",
     "text": [
      "\n",
      "Problem 2:\n",
      "Posterior at t=50: Intact=0.5744, Damage=0.3883, Failure=0.0373\n",
      "Predicted at t=100: Intact=0.3475, Damage=0.4104, Failure=0.2421\n"
     ]
    }
   ],
   "source": [
    "df = pd.read_csv(\"Measures.csv\", header=None)\n",
    "measurements = df[0].values\n",
    "\n",
    "lambda_values_informative = {1: 0.5, 2: 0.75, 3: 1.0}\n",
    "zeta = 0.8\n",
    "\n",
    "alpha_informative = hmm_forward(measurements, lambda_values_informative, zeta)\n",
    "pi_50 = alpha_informative[-1]\n",
    "pi_100 = compute_state_prob(pi_50, P, 50)\n",
    "\n",
    "print(\"\\nProblem 2:\")\n",
    "print(f\"Posterior at t=50: Intact={pi_50[0]:.4f}, Damage={pi_50[1]:.4f}, Failure={pi_50[2]:.4f}\")\n",
    "print(f\"Predicted at t=100: Intact={pi_100[0]:.4f}, Damage={pi_100[1]:.4f}, Failure={pi_100[2]:.4f}\")\n"
   ]
  },
  {
   "cell_type": "markdown",
   "id": "86e6e8b4",
   "metadata": {},
   "source": [
    "## Problem 3: Effect of Changed Emission Parameters"
   ]
  },
  {
   "cell_type": "code",
   "execution_count": 5,
   "id": "b2bd4d9a",
   "metadata": {},
   "outputs": [
    {
     "name": "stdout",
     "output_type": "stream",
     "text": [
      "\n",
      "Problem 3:\n",
      "Posterior at t=50: Intact=0.6111, Damage=0.3025, Failure=0.0864\n",
      "Predicted at t=100: Intact=0.3697, Damage=0.3697, Failure=0.2605\n"
     ]
    }
   ],
   "source": [
    "lambda_values_uniform = {1: 1.0, 2: 1.0, 3: 1.0}\n",
    "\n",
    "alpha_uniform = hmm_forward(measurements, lambda_values_uniform, zeta)\n",
    "pi_50 = alpha_uniform[-1]\n",
    "pi_100 = compute_state_prob(pi_50, P, 50)\n",
    "\n",
    "print(\"\\nProblem 3:\")\n",
    "print(f\"Posterior at t=50: Intact={pi_50[0]:.4f}, Damage={pi_50[1]:.4f}, Failure={pi_50[2]:.4f}\")\n",
    "print(f\"Predicted at t=100: Intact={pi_100[0]:.4f}, Damage={pi_100[1]:.4f}, Failure={pi_100[2]:.4f}\")\n"
   ]
  }
 ],
 "metadata": {
  "kernelspec": {
   "display_name": "class_12735",
   "language": "python",
   "name": "python3"
  },
  "language_info": {
   "codemirror_mode": {
    "name": "ipython",
    "version": 3
   },
   "file_extension": ".py",
   "mimetype": "text/x-python",
   "name": "python",
   "nbconvert_exporter": "python",
   "pygments_lexer": "ipython3",
   "version": "3.9.21"
  }
 },
 "nbformat": 4,
 "nbformat_minor": 5
}
