{
 "cells": [
  {
   "cell_type": "markdown",
   "metadata": {},
   "source": [
    "Q1. Baseline Probability Calculation"
   ]
  },
  {
   "cell_type": "code",
   "execution_count": null,
   "metadata": {},
   "outputs": [],
   "source": [
    "import numpy as np\n",
    "\n",
    "# Define the transition matrix\n",
    "P = np.array([\n",
    "    [0.99, 0.01, 0.0],\n",
    "    [0.0, 0.99, 0.01],\n",
    "    [0.0, 0.0, 1.0]\n",
    "])\n",
    "\n",
    "# Initial state vector: starting from Intact\n",
    "pi_0 = np.array([1.0, 0.0, 0.0])\n",
    "\n",
    "# Function to compute state probabilities after t steps\n",
    "def compute_state_prob(pi_0, P, t):\n",
    "    P_t = np.linalg.matrix_power(P, t)\n",
    "    return pi_0 @ P_t\n",
    "\n",
    "# Compute state probabilities after 50 and 100 weeks\n",
    "pi_50 = compute_state_prob(pi_0, P, 50)\n",
    "pi_100 = compute_state_prob(pi_0, P, 100)\n",
    "\n",
    "# Print the results\n",
    "print(f\"t = 50: Intact={pi_50[0]:.4f}, Damage={pi_50[1]:.4f}, Failure={pi_50[2]:.4f}\")\n",
    "print(f\"t = 100: Intact={pi_100[0]:.4f}, Damage={pi_100[1]:.4f}, Failure={pi_100[2]:.4f}\")"
   ]
  }
 ],
 "metadata": {
  "kernelspec": {
   "display_name": "class_12735",
   "language": "python",
   "name": "python3"
  },
  "language_info": {
   "name": "python",
   "version": "3.10.16"
  }
 },
 "nbformat": 4,
 "nbformat_minor": 2
}
